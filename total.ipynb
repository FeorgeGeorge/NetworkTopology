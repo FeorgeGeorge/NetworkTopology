{
 "cells": [
  {
   "cell_type": "markdown",
   "metadata": {},
   "source": [
    "# Данные "
   ]
  },
  {
   "cell_type": "markdown",
   "metadata": {},
   "source": [
    "0. [Diabetes prediction dataset](https://www.kaggle.com/datasets/iammustafatz/diabetes-prediction-dataset) \n",
    "1. [eeg-eye-state](https://www.openml.org/search?type=data&sort=runs&id=1471&status=active)\n",
    "2. [steel-plates-fault](https://www.openml.org/search?type=data&sort=runs&id=1504&status=active)\n",
    "3. [MNIST (1)](https://www.kaggle.com/datasets/oddrationale/mnist-in-csv), MNIST (2) из keras.datasets\n",
    "\n",
    "4. Синтетические (сделаны самостоятельно)"
   ]
  },
  {
   "cell_type": "markdown",
   "metadata": {},
   "source": [
    "## Датасет 0: диабет\n",
    "\n",
    "Использовался с схемой построения фильтрации из [этой статьи](https://doi.org/10.1007/s10472-021-09761-3), не показал особых результатов. "
   ]
  },
  {
   "cell_type": "markdown",
   "metadata": {},
   "source": [
    "## Датасет 1: eeg-eye-state "
   ]
  }
 ],
 "metadata": {
  "language_info": {
   "name": "python"
  }
 },
 "nbformat": 4,
 "nbformat_minor": 2
}
