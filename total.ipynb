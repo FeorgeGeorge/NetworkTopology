{
 "cells": [
  {
   "cell_type": "markdown",
   "metadata": {},
   "source": [
    "# Данные "
   ]
  },
  {
   "cell_type": "markdown",
   "metadata": {},
   "source": [
    "0. [Diabetes prediction dataset](https://www.kaggle.com/datasets/iammustafatz/diabetes-prediction-dataset) \n",
    "1. [eeg-eye-state](https://www.openml.org/search?type=data&sort=runs&id=1471&status=active)\n",
    "2. [steel-plates-fault](https://www.openml.org/search?type=data&sort=runs&id=1504&status=active)\n",
    "3. [MNIST (1)](https://www.kaggle.com/datasets/oddrationale/mnist-in-csv), MNIST (2) из keras.datasets\n",
    "\n",
    "4. Синтетические (сделаны самостоятельно)"
   ]
  },
  {
   "cell_type": "markdown",
   "metadata": {},
   "source": [
    "## Датасет 0: диабет\n",
    "\n",
    "Использовался с схемой построения фильтрации из [этой статьи](https://doi.org/10.1007/s10472-021-09761-3), от которой в итоге отказались. "
   ]
  },
  {
   "cell_type": "markdown",
   "metadata": {},
   "source": [
    "## Датасет 1: eeg-eye-state "
   ]
  },
  {
   "cell_type": "markdown",
   "metadata": {},
   "source": [
    "Данные нормализованные.\n",
    "Callbacks: patience=15,\n",
    "           mode='auto',\n",
    "        restore_best_weights=True"
   ]
  },
  {
   "cell_type": "markdown",
   "metadata": {},
   "source": [
    "Срезы:  [1, 2, 4, 8, 16, 32, 64, 128, 254, 1024, 2048]\n",
    "\n",
    "Соответственно количество обучаемых данных: [14980, 7490, 3745, 1872, 936, 468, 234, 117, 58, 14, 7]"
   ]
  },
  {
   "cell_type": "markdown",
   "metadata": {},
   "source": [
    "### Энтропия\n",
    "\n",
    "Слой 0, размерность 0\n",
    "\n",
    "![Энтропия 0 0](total_img/eeg_entropy_0_0.png)"
   ]
  },
  {
   "cell_type": "markdown",
   "metadata": {},
   "source": [
    "Слой 1, размерность 0\n",
    "\n",
    "![](total_img/eeg_entropy_1_0.png)"
   ]
  },
  {
   "cell_type": "markdown",
   "metadata": {},
   "source": [
    "Cлой 2, размерность 0\n",
    "\n",
    "![](total_img/eeg_entropy_2_0.png)"
   ]
  },
  {
   "cell_type": "markdown",
   "metadata": {},
   "source": [
    "Слой 2, размерность 1\n",
    "\n",
    "![](total_img/eeg_entropy_2_1.png)"
   ]
  },
  {
   "cell_type": "markdown",
   "metadata": {},
   "source": [
    "### Число гомологий"
   ]
  },
  {
   "cell_type": "markdown",
   "metadata": {},
   "source": [
    "Слой 0, размерность 1\n",
    "\n",
    "![](total_img/eeg_points_number_0_1.png)"
   ]
  },
  {
   "cell_type": "markdown",
   "metadata": {},
   "source": [
    "Cлой 1, размерность 1\n",
    "\n",
    "![](eeg_points_number_1_1.png)"
   ]
  },
  {
   "cell_type": "markdown",
   "metadata": {},
   "source": [
    "Слой 2, размерность 1\n",
    "\n",
    "![](total_img/eeg_points_number_2_1.png)"
   ]
  },
  {
   "cell_type": "markdown",
   "metadata": {},
   "source": [
    "### Средняя продолжительность жизни"
   ]
  },
  {
   "cell_type": "markdown",
   "metadata": {},
   "source": [
    "Слой 0, размерность 1\n",
    "\n",
    "![](total_img/eeg_mean_life_time_0_1.png)"
   ]
  },
  {
   "cell_type": "markdown",
   "metadata": {},
   "source": [
    "Слой 2, размерность 1\n",
    "\n",
    "![](total_img/eeg_mean_life_time_2_1.png)"
   ]
  }
 ],
 "metadata": {
  "language_info": {
   "name": "python"
  }
 },
 "nbformat": 4,
 "nbformat_minor": 2
}
